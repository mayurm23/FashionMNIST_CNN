{
 "cells": [
  {
   "cell_type": "code",
   "execution_count": 145,
   "metadata": {},
   "outputs": [],
   "source": [
    "import pandas as pd\n",
    "import numpy as np\n",
    "import matplotlib.pyplot as plt\n",
    "import tensorflow as tf\n",
    "import keras\n",
    "from keras.preprocessing.image import ImageDataGenerator\n",
    "from sklearn.metrics import classification_report\n",
    "#from __future__ import print_function\n",
    "from keras.models import Sequential\n",
    "from keras.layers import Dense, Dropout, Flatten, BatchNormalization, Activation\n",
    "from keras.layers import Conv2D, MaxPooling2D\n",
    "from keras import backend as K"
   ]
  },
  {
   "cell_type": "markdown",
   "metadata": {},
   "source": [
    "## Loading the Dataset using the inbuilt Fashion MNIST Loader"
   ]
  },
  {
   "cell_type": "code",
   "execution_count": 146,
   "metadata": {},
   "outputs": [],
   "source": [
    "from keras.datasets import fashion_mnist\n",
    "(x_train, y_train), (x_test, y_test) = fashion_mnist.load_data()"
   ]
  },
  {
   "cell_type": "code",
   "execution_count": 147,
   "metadata": {},
   "outputs": [],
   "source": [
    "img_rows, img_cols = 28, 28\n",
    "num_classes = 10\n",
    "\n",
    "x_train = np.array(x_train)\n",
    "y_train = np.array(y_train)\n",
    "x_test = np.array(x_test)\n",
    "y_test = np.array(y_test)\n"
   ]
  },
  {
   "cell_type": "code",
   "execution_count": 148,
   "metadata": {},
   "outputs": [
    {
     "name": "stdout",
     "output_type": "stream",
     "text": [
      "x_train Shape: (60000, 28, 28, 1)\n",
      "60000 Training Samples\n",
      "10000 Testing Samples\n",
      "(60000,)\n"
     ]
    }
   ],
   "source": [
    "#del x_train, y_train, x_test, y_test\n",
    "if K.image_data_format() == 'channels_first':\n",
    "    x_train = x_train.reshape(x_train.shape[0], 1, img_rows, img_cols)\n",
    "    x_test = x_test.reshape(x_test.shape[0], 1, img_rows, img_cols)\n",
    "    input_shape = (1, img_rows, img_cols)\n",
    "else:\n",
    "    x_train = x_train.reshape(x_train.shape[0], img_rows, img_cols, 1)\n",
    "    x_test = x_test.reshape(x_test.shape[0], img_rows, img_cols, 1)\n",
    "    input_shape = (img_rows, img_cols, 1)\n",
    "\n",
    "x_train = x_train.astype('float32')\n",
    "x_test = x_test.astype('float32')\n",
    "x_train /= 255\n",
    "x_test /= 255\n",
    "print('x_train Shape:', x_train.shape)\n",
    "print(x_train.shape[0], 'Training Samples')\n",
    "print(x_test.shape[0], 'Testing Samples')\n",
    "print(y_train.shape)\n",
    "y_train = keras.utils.to_categorical(y_train, num_classes)\n",
    "y_test = keras.utils.to_categorical(y_test, num_classes)\n"
   ]
  },
  {
   "cell_type": "markdown",
   "metadata": {},
   "source": [
    "## CNN Architecture "
   ]
  },
  {
   "cell_type": "code",
   "execution_count": 149,
   "metadata": {},
   "outputs": [
    {
     "name": "stdout",
     "output_type": "stream",
     "text": [
      "_________________________________________________________________\n",
      "Layer (type)                 Output Shape              Param #   \n",
      "=================================================================\n",
      "conv2d_28 (Conv2D)           (None, 26, 26, 32)        320       \n",
      "_________________________________________________________________\n",
      "batch_normalization_37 (Batc (None, 26, 26, 32)        128       \n",
      "_________________________________________________________________\n",
      "activation_37 (Activation)   (None, 26, 26, 32)        0         \n",
      "_________________________________________________________________\n",
      "conv2d_29 (Conv2D)           (None, 24, 24, 32)        9248      \n",
      "_________________________________________________________________\n",
      "batch_normalization_38 (Batc (None, 24, 24, 32)        128       \n",
      "_________________________________________________________________\n",
      "activation_38 (Activation)   (None, 24, 24, 32)        0         \n",
      "_________________________________________________________________\n",
      "conv2d_30 (Conv2D)           (None, 22, 22, 64)        18496     \n",
      "_________________________________________________________________\n",
      "batch_normalization_39 (Batc (None, 22, 22, 64)        256       \n",
      "_________________________________________________________________\n",
      "activation_39 (Activation)   (None, 22, 22, 64)        0         \n",
      "_________________________________________________________________\n",
      "max_pooling2d_10 (MaxPooling (None, 11, 11, 64)        0         \n",
      "_________________________________________________________________\n",
      "flatten_10 (Flatten)         (None, 7744)              0         \n",
      "_________________________________________________________________\n",
      "dense_19 (Dense)             (None, 512)               3965440   \n",
      "_________________________________________________________________\n",
      "batch_normalization_40 (Batc (None, 512)               2048      \n",
      "_________________________________________________________________\n",
      "activation_40 (Activation)   (None, 512)               0         \n",
      "_________________________________________________________________\n",
      "dropout_10 (Dropout)         (None, 512)               0         \n",
      "_________________________________________________________________\n",
      "dense_20 (Dense)             (None, 10)                5130      \n",
      "=================================================================\n",
      "Total params: 4,001,194\n",
      "Trainable params: 3,999,914\n",
      "Non-trainable params: 1,280\n",
      "_________________________________________________________________\n"
     ]
    }
   ],
   "source": [
    "model = Sequential()\n",
    "\n",
    "model.add(Conv2D(32, kernel_size=(3, 3), input_shape=input_shape))\n",
    "model.add(BatchNormalization(axis=-1))\n",
    "model.add(Activation('relu'))\n",
    "\n",
    "model.add(Conv2D(32, kernel_size=(3, 3)))\n",
    "model.add(BatchNormalization(axis=-1))\n",
    "model.add(Activation('relu'))\n",
    "\n",
    "model.add(Conv2D(64, kernel_size=(3, 3)))\n",
    "model.add(BatchNormalization(axis=-1))\n",
    "model.add(Activation('relu'))\n",
    "\n",
    "model.add(MaxPooling2D(pool_size=(2, 2)))\n",
    "\n",
    "model.add(Flatten())\n",
    "\n",
    "model.add(Dense(512))\n",
    "model.add(BatchNormalization())\n",
    "model.add(Activation('relu'))\n",
    "model.add(Dropout(0.2))\n",
    "model.add(Dense(num_classes, activation='softmax'))\n",
    "model.summary()"
   ]
  },
  {
   "cell_type": "markdown",
   "metadata": {},
   "source": [
    "## Early Stopping Criteria"
   ]
  },
  {
   "cell_type": "code",
   "execution_count": 150,
   "metadata": {},
   "outputs": [],
   "source": [
    "early_stop = keras.callbacks.EarlyStopping(monitor='val_loss', min_delta=0, patience=5, verbose=1)"
   ]
  },
  {
   "cell_type": "markdown",
   "metadata": {},
   "source": [
    "## Part 1: No Augmentation "
   ]
  },
  {
   "cell_type": "code",
   "execution_count": 151,
   "metadata": {},
   "outputs": [],
   "source": [
    "model.compile(loss=keras.losses.categorical_crossentropy,\n",
    "              optimizer=keras.optimizers.adam(),\n",
    "              metrics=['accuracy'])"
   ]
  },
  {
   "cell_type": "code",
   "execution_count": 152,
   "metadata": {},
   "outputs": [
    {
     "name": "stdout",
     "output_type": "stream",
     "text": [
      "Train on 60000 samples, validate on 10000 samples\n",
      "Epoch 1/10\n",
      "60000/60000 [==============================] - 444s 7ms/step - loss: 0.3340 - acc: 0.8793 - val_loss: 0.2853 - val_acc: 0.8914\n",
      "Epoch 2/10\n",
      "60000/60000 [==============================] - 433s 7ms/step - loss: 0.2007 - acc: 0.9254 - val_loss: 0.2439 - val_acc: 0.9165\n",
      "Epoch 3/10\n",
      "60000/60000 [==============================] - 442s 7ms/step - loss: 0.1462 - acc: 0.9470 - val_loss: 0.2595 - val_acc: 0.9076\n",
      "Epoch 4/10\n",
      "60000/60000 [==============================] - 438s 7ms/step - loss: 0.1022 - acc: 0.9630 - val_loss: 0.3474 - val_acc: 0.8932\n",
      "Epoch 5/10\n",
      "60000/60000 [==============================] - 436s 7ms/step - loss: 0.0728 - acc: 0.9733 - val_loss: 0.2697 - val_acc: 0.9170\n",
      "Epoch 6/10\n",
      "60000/60000 [==============================] - 432s 7ms/step - loss: 0.0542 - acc: 0.9814 - val_loss: 0.2698 - val_acc: 0.9141\n",
      "Epoch 7/10\n",
      "60000/60000 [==============================] - 451s 8ms/step - loss: 0.0392 - acc: 0.9866 - val_loss: 0.3759 - val_acc: 0.9008\n",
      "Epoch 00007: early stopping\n"
     ]
    },
    {
     "data": {
      "text/plain": [
       "<keras.callbacks.History at 0x26f8371c2b0>"
      ]
     },
     "execution_count": 152,
     "metadata": {},
     "output_type": "execute_result"
    }
   ],
   "source": [
    "model.fit(x_train, y_train,\n",
    "          batch_size=128,\n",
    "          epochs=10,\n",
    "          verbose=1,\n",
    "          validation_data=(x_test, y_test),\n",
    "          callbacks = [early_stop])"
   ]
  },
  {
   "cell_type": "code",
   "execution_count": 154,
   "metadata": {},
   "outputs": [
    {
     "name": "stdout",
     "output_type": "stream",
     "text": [
      "No Augmentation Training Accuracy: 0.9674\n",
      "No Augmentation Testing Accuracy: 0.9008\n"
     ]
    }
   ],
   "source": [
    "score_train = model.evaluate(x_train, y_train, verbose=0)\n",
    "print('No Augmentation Training Accuracy:', score_train[1])\n",
    "\n",
    "score_test = model.evaluate(x_test, y_test, verbose=0)\n",
    "print('No Augmentation Testing Accuracy:', score_test[1])"
   ]
  },
  {
   "cell_type": "code",
   "execution_count": 155,
   "metadata": {},
   "outputs": [
    {
     "name": "stdout",
     "output_type": "stream",
     "text": [
      "Classification Report (No Augmentation): \n",
      "              precision    recall  f1-score   support\n",
      "\n",
      "          0       0.82      0.89      0.85      1000\n",
      "          1       1.00      0.96      0.98      1000\n",
      "          2       0.89      0.85      0.87      1000\n",
      "          3       0.95      0.86      0.90      1000\n",
      "          4       0.82      0.92      0.87      1000\n",
      "          5       0.85      1.00      0.92      1000\n",
      "          6       0.82      0.70      0.75      1000\n",
      "          7       0.98      0.90      0.94      1000\n",
      "          8       0.93      0.99      0.96      1000\n",
      "          9       0.97      0.94      0.96      1000\n",
      "\n",
      "avg / total       0.90      0.90      0.90     10000\n",
      "\n"
     ]
    }
   ],
   "source": [
    "y_pred = model.predict_classes(x_test)\n",
    "y_test_class = y_test.argmax(axis=-1)\n",
    "print(\"Classification Report (No Augmentation): \\n\",classification_report(y_test_class,y_pred))"
   ]
  },
  {
   "cell_type": "markdown",
   "metadata": {},
   "source": [
    "## Part 2: Vertical Flip Augmentation using Keras ImageDataGenerator"
   ]
  },
  {
   "cell_type": "code",
   "execution_count": 156,
   "metadata": {},
   "outputs": [
    {
     "data": {
      "image/png": "[encoded data removed]",
      "text/plain": [
       "<matplotlib.figure.Figure at 0x26f85d587b8>"
      ]
     },
     "metadata": {},
     "output_type": "display_data"
    }
   ],
   "source": [
    "datagen = ImageDataGenerator(vertical_flip=True, fill_mode='nearest')\n",
    "\n",
    "for x_batch, y_batch in datagen.flow(x_train, y_train, batch_size=9):\n",
    "    for i in range(0, 9):\n",
    "        plt.subplot(330 + 1 + i)\n",
    "        plt.imshow(x_batch[i].reshape(28, 28), cmap=plt.get_cmap('gray'))\n",
    "    plt.show()\n",
    "    break"
   ]
  },
  {
   "cell_type": "code",
   "execution_count": 157,
   "metadata": {},
   "outputs": [
    {
     "name": "stdout",
     "output_type": "stream",
     "text": [
      "Epoch 1/10\n",
      "937/937 [==============================] - 889s 948ms/step - loss: 0.1934 - acc: 0.9338 - val_loss: 0.2961 - val_acc: 0.9057\n",
      "Epoch 2/10\n",
      "937/937 [==============================] - 888s 948ms/step - loss: 0.0972 - acc: 0.9663 - val_loss: 0.3586 - val_acc: 0.8921\n",
      "Epoch 3/10\n",
      "937/937 [==============================] - 928s 990ms/step - loss: 0.0683 - acc: 0.9768 - val_loss: 0.3044 - val_acc: 0.9141\n",
      "Epoch 4/10\n",
      "937/937 [==============================] - 883s 942ms/step - loss: 0.0506 - acc: 0.9829 - val_loss: 0.3938 - val_acc: 0.8998\n",
      "Epoch 5/10\n",
      "937/937 [==============================] - 900s 960ms/step - loss: 0.0379 - acc: 0.9877 - val_loss: 0.3419 - val_acc: 0.9078\n",
      "Epoch 6/10\n",
      "937/937 [==============================] - 963s 1s/step - loss: 0.0313 - acc: 0.9891 - val_loss: 0.3757 - val_acc: 0.9126\n",
      "Epoch 00006: early stopping\n"
     ]
    },
    {
     "data": {
      "text/plain": [
       "<keras.callbacks.History at 0x26f86c30da0>"
      ]
     },
     "execution_count": 157,
     "metadata": {},
     "output_type": "execute_result"
    }
   ],
   "source": [
    "datagen_train = datagen.flow(x_train,y_train,batch_size=128)\n",
    "datagen_test = datagen.flow(x_test,y_test,batch_size=128)\n",
    "model.fit_generator(datagen_train,\n",
    "          steps_per_epoch=60000//64,\n",
    "          epochs=10,\n",
    "          verbose=1,\n",
    "          validation_data=datagen_test,\n",
    "          validation_steps=10000//64,\n",
    "          callbacks=[early_stop])"
   ]
  },
  {
   "cell_type": "code",
   "execution_count": 159,
   "metadata": {},
   "outputs": [
    {
     "name": "stdout",
     "output_type": "stream",
     "text": [
      "Vertical Flip Augmentation Training Accuracy: 0.9914166666666666\n",
      "Vertical Flip Augmentation Testing Accuracy: 0.9178\n"
     ]
    }
   ],
   "source": [
    "score_train = model.evaluate(x_train, y_train, verbose=0)\n",
    "print('Vertical Flip Augmentation Training Accuracy:', score_train[1])\n",
    "\n",
    "score_test = model.evaluate(x_test, y_test, verbose=0)\n",
    "print('Vertical Flip Augmentation Testing Accuracy:', score_test[1])"
   ]
  },
  {
   "cell_type": "code",
   "execution_count": 160,
   "metadata": {},
   "outputs": [
    {
     "name": "stdout",
     "output_type": "stream",
     "text": [
      "Classification Report (Vertical Flip Augmentation): \n",
      "              precision    recall  f1-score   support\n",
      "\n",
      "          0       0.82      0.90      0.86      1000\n",
      "          1       0.99      0.98      0.98      1000\n",
      "          2       0.88      0.89      0.88      1000\n",
      "          3       0.92      0.91      0.92      1000\n",
      "          4       0.82      0.93      0.87      1000\n",
      "          5       0.98      0.98      0.98      1000\n",
      "          6       0.87      0.67      0.76      1000\n",
      "          7       0.98      0.95      0.96      1000\n",
      "          8       0.96      0.99      0.98      1000\n",
      "          9       0.95      0.98      0.97      1000\n",
      "\n",
      "avg / total       0.92      0.92      0.92     10000\n",
      "\n"
     ]
    }
   ],
   "source": [
    "y_pred = model.predict_classes(x_test)\n",
    "\n",
    "\n",
    "y_test_class = y_test.argmax(axis=-1)\n",
    "print(\"Classification Report (Vertical Flip Augmentation): \\n\",classification_report(y_test_class,y_pred))"
   ]
  },
  {
   "cell_type": "markdown",
   "metadata": {},
   "source": [
    "## Part 2: Horizontal Flip Augmentation using Keras ImageDataGenerator "
   ]
  },
  {
   "cell_type": "code",
   "execution_count": 161,
   "metadata": {},
   "outputs": [
    {
     "data": {
      "image/png": "[encoded data removed]",
      "text/plain": [
       "<matplotlib.figure.Figure at 0x26f8367fbe0>"
      ]
     },
     "metadata": {},
     "output_type": "display_data"
    }
   ],
   "source": [
    "datagen = ImageDataGenerator(horizontal_flip=True, fill_mode='nearest')\n",
    "\n",
    "for x_batch, y_batch in datagen.flow(x_train, y_train, batch_size=9):\n",
    "    for i in range(0, 9):\n",
    "        plt.subplot(330 + 1 + i)\n",
    "        plt.imshow(x_batch[i].reshape(28, 28), cmap=plt.get_cmap('gray'))\n",
    "    plt.show()\n",
    "    break"
   ]
  },
  {
   "cell_type": "code",
   "execution_count": 69,
   "metadata": {},
   "outputs": [
    {
     "name": "stdout",
     "output_type": "stream",
     "text": [
      "Epoch 1/10\n",
      "937/937 [==============================] - 453s 483ms/step - loss: 0.1619 - acc: 0.9453 - val_loss: 0.2734 - val_acc: 0.9123\n",
      "Epoch 2/10\n",
      "937/937 [==============================] - 463s 495ms/step - loss: 0.0962 - acc: 0.9675 - val_loss: 0.2290 - val_acc: 0.9261\n",
      "Epoch 3/10\n",
      "937/937 [==============================] - 459s 489ms/step - loss: 0.0731 - acc: 0.9748 - val_loss: 0.2408 - val_acc: 0.9240\n",
      "Epoch 4/10\n",
      "937/937 [==============================] - 457s 488ms/step - loss: 0.0603 - acc: 0.9790 - val_loss: 0.2694 - val_acc: 0.9251\n",
      "Epoch 5/10\n",
      "937/937 [==============================] - 24396s 26s/step - loss: 0.0482 - acc: 0.9838 - val_loss: 0.2575 - val_acc: 0.9222\n",
      "Epoch 6/10\n",
      "937/937 [==============================] - 485s 518ms/step - loss: 0.0417 - acc: 0.9857 - val_loss: 0.2935 - val_acc: 0.9265\n",
      "Epoch 7/10\n",
      "937/937 [==============================] - 467s 498ms/step - loss: 0.0350 - acc: 0.9879 - val_loss: 0.3109 - val_acc: 0.9238\n",
      "Epoch 8/10\n",
      "937/937 [==============================] - 468s 500ms/step - loss: 0.0317 - acc: 0.9895 - val_loss: 0.3286 - val_acc: 0.9150\n",
      "Epoch 9/10\n",
      "937/937 [==============================] - 478s 510ms/step - loss: 0.0298 - acc: 0.9899 - val_loss: 0.3503 - val_acc: 0.9117\n",
      "Epoch 10/10\n",
      "937/937 [==============================] - 473s 504ms/step - loss: 0.0235 - acc: 0.9921 - val_loss: 0.2735 - val_acc: 0.9311\n"
     ]
    },
    {
     "data": {
      "text/plain": [
       "<keras.callbacks.History at 0x26faeabe630>"
      ]
     },
     "execution_count": 69,
     "metadata": {},
     "output_type": "execute_result"
    }
   ],
   "source": [
    "datagen_train = datagen.flow(x_train,y_train,batch_size=64)\n",
    "datagen_test = datagen.flow(x_test,y_test,batch_size=64)\n",
    "model.fit_generator(datagen_train,\n",
    "                    steps_per_epoch=60000//64,\n",
    "                    epochs=10,\n",
    "                    verbose=1,\n",
    "                    validation_data=datagen_test,\n",
    "                    validation_steps=10000//64)"
   ]
  },
  {
   "cell_type": "code",
   "execution_count": 163,
   "metadata": {},
   "outputs": [
    {
     "name": "stdout",
     "output_type": "stream",
     "text": [
      "Horizontal Flip Augmentation Training Accuracy: 0.9935\n",
      "Horizontal Flip Augmentation Training Accuracy: 0.9279\n"
     ]
    }
   ],
   "source": [
    "score_train = model.evaluate(x_train, y_train, verbose=0)\n",
    "print('Horizontal Flip Augmentation Training Accuracy:', score_train[1])\n",
    "\n",
    "score_test = model.evaluate(x_test, y_test, verbose=0)\n",
    "print('Horizontal Flip Augmentation Testing Accuracy:', score_test[1])\n"
   ]
  },
  {
   "cell_type": "code",
   "execution_count": 72,
   "metadata": {},
   "outputs": [
    {
     "name": "stdout",
     "output_type": "stream",
     "text": [
      "Classification Report (Horizontal Flip Augmentation): \n",
      "              precision    recall  f1-score   support\n",
      "\n",
      "          0       0.89      0.90      0.89      1000\n",
      "          1       0.99      0.99      0.99      1000\n",
      "          2       0.89      0.90      0.90      1000\n",
      "          3       0.92      0.95      0.93      1000\n",
      "          4       0.90      0.88      0.89      1000\n",
      "          5       0.99      0.99      0.99      1000\n",
      "          6       0.82      0.79      0.80      1000\n",
      "          7       0.97      0.97      0.97      1000\n",
      "          8       0.98      0.98      0.98      1000\n",
      "          9       0.97      0.97      0.97      1000\n",
      "\n",
      "avg / total       0.93      0.93      0.93     10000\n",
      "\n"
     ]
    }
   ],
   "source": [
    "y_pred = model.predict_classes(x_test)\n",
    "y_test_class = y_test.argmax(axis=-1)\n",
    "print(\"Classification Report (Horizontal Flip Augmentation): \\n\",classification_report(y_test_class,y_pred))"
   ]
  }
 ],
 "metadata": {
  "kernelspec": {
   "display_name": "Python 3",
   "language": "python",
   "name": "python3"
  },
  "language_info": {
   "codemirror_mode": {
    "name": "ipython",
    "version": 3
   },
   "file_extension": ".py",
   "mimetype": "text/x-python",
   "name": "python",
   "nbconvert_exporter": "python",
   "pygments_lexer": "ipython3",
   "version": "3.6.4"
  }
 },
 "nbformat": 4,
 "nbformat_minor": 2
}
